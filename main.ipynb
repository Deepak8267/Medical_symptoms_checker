{
 "cells": [
  {
   "cell_type": "code",
   "execution_count": 7,
   "id": "94606930-7bee-419f-ad59-06997eccaeb1",
   "metadata": {},
   "outputs": [
    {
     "data": {
      "text/html": [
       "<div>\n",
       "<style scoped>\n",
       "    .dataframe tbody tr th:only-of-type {\n",
       "        vertical-align: middle;\n",
       "    }\n",
       "\n",
       "    .dataframe tbody tr th {\n",
       "        vertical-align: top;\n",
       "    }\n",
       "\n",
       "    .dataframe thead th {\n",
       "        text-align: right;\n",
       "    }\n",
       "</style>\n",
       "<table border=\"1\" class=\"dataframe\">\n",
       "  <thead>\n",
       "    <tr style=\"text-align: right;\">\n",
       "      <th></th>\n",
       "      <th>itching</th>\n",
       "      <th>skin_rash</th>\n",
       "      <th>nodal_skin_eruptions</th>\n",
       "      <th>continuous_sneezing</th>\n",
       "      <th>shivering</th>\n",
       "      <th>chills</th>\n",
       "      <th>joint_pain</th>\n",
       "      <th>stomach_pain</th>\n",
       "      <th>acidity</th>\n",
       "      <th>ulcers_on_tongue</th>\n",
       "      <th>...</th>\n",
       "      <th>blackheads</th>\n",
       "      <th>scurring</th>\n",
       "      <th>skin_peeling</th>\n",
       "      <th>silver_like_dusting</th>\n",
       "      <th>small_dents_in_nails</th>\n",
       "      <th>inflammatory_nails</th>\n",
       "      <th>blister</th>\n",
       "      <th>red_sore_around_nose</th>\n",
       "      <th>yellow_crust_ooze</th>\n",
       "      <th>prognosis</th>\n",
       "    </tr>\n",
       "  </thead>\n",
       "  <tbody>\n",
       "    <tr>\n",
       "      <th>0</th>\n",
       "      <td>1</td>\n",
       "      <td>1</td>\n",
       "      <td>1</td>\n",
       "      <td>0</td>\n",
       "      <td>0</td>\n",
       "      <td>0</td>\n",
       "      <td>0</td>\n",
       "      <td>0</td>\n",
       "      <td>0</td>\n",
       "      <td>0</td>\n",
       "      <td>...</td>\n",
       "      <td>0</td>\n",
       "      <td>0</td>\n",
       "      <td>0</td>\n",
       "      <td>0</td>\n",
       "      <td>0</td>\n",
       "      <td>0</td>\n",
       "      <td>0</td>\n",
       "      <td>0</td>\n",
       "      <td>0</td>\n",
       "      <td>Fungal infection</td>\n",
       "    </tr>\n",
       "    <tr>\n",
       "      <th>1</th>\n",
       "      <td>0</td>\n",
       "      <td>1</td>\n",
       "      <td>1</td>\n",
       "      <td>0</td>\n",
       "      <td>0</td>\n",
       "      <td>0</td>\n",
       "      <td>0</td>\n",
       "      <td>0</td>\n",
       "      <td>0</td>\n",
       "      <td>0</td>\n",
       "      <td>...</td>\n",
       "      <td>0</td>\n",
       "      <td>0</td>\n",
       "      <td>0</td>\n",
       "      <td>0</td>\n",
       "      <td>0</td>\n",
       "      <td>0</td>\n",
       "      <td>0</td>\n",
       "      <td>0</td>\n",
       "      <td>0</td>\n",
       "      <td>Fungal infection</td>\n",
       "    </tr>\n",
       "    <tr>\n",
       "      <th>2</th>\n",
       "      <td>1</td>\n",
       "      <td>0</td>\n",
       "      <td>1</td>\n",
       "      <td>0</td>\n",
       "      <td>0</td>\n",
       "      <td>0</td>\n",
       "      <td>0</td>\n",
       "      <td>0</td>\n",
       "      <td>0</td>\n",
       "      <td>0</td>\n",
       "      <td>...</td>\n",
       "      <td>0</td>\n",
       "      <td>0</td>\n",
       "      <td>0</td>\n",
       "      <td>0</td>\n",
       "      <td>0</td>\n",
       "      <td>0</td>\n",
       "      <td>0</td>\n",
       "      <td>0</td>\n",
       "      <td>0</td>\n",
       "      <td>Fungal infection</td>\n",
       "    </tr>\n",
       "    <tr>\n",
       "      <th>3</th>\n",
       "      <td>1</td>\n",
       "      <td>1</td>\n",
       "      <td>0</td>\n",
       "      <td>0</td>\n",
       "      <td>0</td>\n",
       "      <td>0</td>\n",
       "      <td>0</td>\n",
       "      <td>0</td>\n",
       "      <td>0</td>\n",
       "      <td>0</td>\n",
       "      <td>...</td>\n",
       "      <td>0</td>\n",
       "      <td>0</td>\n",
       "      <td>0</td>\n",
       "      <td>0</td>\n",
       "      <td>0</td>\n",
       "      <td>0</td>\n",
       "      <td>0</td>\n",
       "      <td>0</td>\n",
       "      <td>0</td>\n",
       "      <td>Fungal infection</td>\n",
       "    </tr>\n",
       "    <tr>\n",
       "      <th>4</th>\n",
       "      <td>1</td>\n",
       "      <td>1</td>\n",
       "      <td>1</td>\n",
       "      <td>0</td>\n",
       "      <td>0</td>\n",
       "      <td>0</td>\n",
       "      <td>0</td>\n",
       "      <td>0</td>\n",
       "      <td>0</td>\n",
       "      <td>0</td>\n",
       "      <td>...</td>\n",
       "      <td>0</td>\n",
       "      <td>0</td>\n",
       "      <td>0</td>\n",
       "      <td>0</td>\n",
       "      <td>0</td>\n",
       "      <td>0</td>\n",
       "      <td>0</td>\n",
       "      <td>0</td>\n",
       "      <td>0</td>\n",
       "      <td>Fungal infection</td>\n",
       "    </tr>\n",
       "  </tbody>\n",
       "</table>\n",
       "<p>5 rows × 133 columns</p>\n",
       "</div>"
      ],
      "text/plain": [
       "   itching  skin_rash  nodal_skin_eruptions  continuous_sneezing  shivering  \\\n",
       "0        1          1                     1                    0          0   \n",
       "1        0          1                     1                    0          0   \n",
       "2        1          0                     1                    0          0   \n",
       "3        1          1                     0                    0          0   \n",
       "4        1          1                     1                    0          0   \n",
       "\n",
       "   chills  joint_pain  stomach_pain  acidity  ulcers_on_tongue  ...  \\\n",
       "0       0           0             0        0                 0  ...   \n",
       "1       0           0             0        0                 0  ...   \n",
       "2       0           0             0        0                 0  ...   \n",
       "3       0           0             0        0                 0  ...   \n",
       "4       0           0             0        0                 0  ...   \n",
       "\n",
       "   blackheads  scurring  skin_peeling  silver_like_dusting  \\\n",
       "0           0         0             0                    0   \n",
       "1           0         0             0                    0   \n",
       "2           0         0             0                    0   \n",
       "3           0         0             0                    0   \n",
       "4           0         0             0                    0   \n",
       "\n",
       "   small_dents_in_nails  inflammatory_nails  blister  red_sore_around_nose  \\\n",
       "0                     0                   0        0                     0   \n",
       "1                     0                   0        0                     0   \n",
       "2                     0                   0        0                     0   \n",
       "3                     0                   0        0                     0   \n",
       "4                     0                   0        0                     0   \n",
       "\n",
       "   yellow_crust_ooze         prognosis  \n",
       "0                  0  Fungal infection  \n",
       "1                  0  Fungal infection  \n",
       "2                  0  Fungal infection  \n",
       "3                  0  Fungal infection  \n",
       "4                  0  Fungal infection  \n",
       "\n",
       "[5 rows x 133 columns]"
      ]
     },
     "execution_count": 7,
     "metadata": {},
     "output_type": "execute_result"
    }
   ],
   "source": [
    "import pandas as pd\n",
    "dataset = pd.read_csv(\"Dataset/Training.csv\")\n",
    "dataset.head()"
   ]
  },
  {
   "cell_type": "code",
   "execution_count": 9,
   "id": "9a0dcefa-f25e-487a-af28-643e281775d8",
   "metadata": {},
   "outputs": [],
   "source": [
    "## train test split\n",
    "from sklearn.model_selection import train_test_split\n",
    "from sklearn.preprocessing import LabelEncoder"
   ]
  },
  {
   "cell_type": "code",
   "execution_count": 10,
   "id": "7cedebce-6280-4931-ac80-a153d72f0d49",
   "metadata": {},
   "outputs": [],
   "source": [
    "X = dataset.drop(\"prognosis\", axis=1)\n",
    "y = dataset['prognosis']"
   ]
  },
  {
   "cell_type": "code",
   "execution_count": 11,
   "id": "b32aeab0-c922-4bcb-bcd3-e027b31a450c",
   "metadata": {},
   "outputs": [],
   "source": [
    "le= LabelEncoder()  ## convert string into integer value becouse machine understand only number\n",
    "le.fit(y)\n",
    "Y=le.transform(y)"
   ]
  },
  {
   "cell_type": "code",
   "execution_count": 12,
   "id": "d491798e-9416-42ff-b940-a2123543ee63",
   "metadata": {},
   "outputs": [
    {
     "data": {
      "text/plain": [
       "((3444, 132), (1476, 132), (3444,), (1476,))"
      ]
     },
     "execution_count": 12,
     "metadata": {},
     "output_type": "execute_result"
    }
   ],
   "source": [
    "x_train,x_test,y_train,y_test=train_test_split(X,Y, test_size=0.3, random_state=20)  # split data into x and y form 70:30 ratio 70 training data and 30 test data\n",
    "x_train.shape,x_test.shape,y_train.shape,y_test.shape"
   ]
  },
  {
   "cell_type": "raw",
   "id": "ea8ca361-a48e-473c-9ed4-15eec6ec5b0a",
   "metadata": {},
   "source": [
    "##  Training models"
   ]
  },
  {
   "cell_type": "code",
   "execution_count": 14,
   "id": "f4287859-c110-4c72-abb6-bd4eeb6bb227",
   "metadata": {},
   "outputs": [
    {
     "name": "stdout",
     "output_type": "stream",
     "text": [
      "SVC  Accuracy : 1.0\n",
      "SVC  Confusion : \n",
      "[[40,  0,  0, ...,  0,  0,  0],\n",
      " [ 0, 43,  0, ...,  0,  0,  0],\n",
      " [ 0,  0, 28, ...,  0,  0,  0],\n",
      " ...,\n",
      " [ 0,  0,  0, ..., 34,  0,  0],\n",
      " [ 0,  0,  0, ...,  0, 41,  0],\n",
      " [ 0,  0,  0, ...,  0,  0, 31]]\n",
      "RandomForst  Accuracy : 1.0\n",
      "RandomForst  Confusion : \n",
      "[[40,  0,  0, ...,  0,  0,  0],\n",
      " [ 0, 43,  0, ...,  0,  0,  0],\n",
      " [ 0,  0, 28, ...,  0,  0,  0],\n",
      " ...,\n",
      " [ 0,  0,  0, ..., 34,  0,  0],\n",
      " [ 0,  0,  0, ...,  0, 41,  0],\n",
      " [ 0,  0,  0, ...,  0,  0, 31]]\n",
      "GradientBoosting  Accuracy : 1.0\n",
      "GradientBoosting  Confusion : \n",
      "[[40,  0,  0, ...,  0,  0,  0],\n",
      " [ 0, 43,  0, ...,  0,  0,  0],\n",
      " [ 0,  0, 28, ...,  0,  0,  0],\n",
      " ...,\n",
      " [ 0,  0,  0, ..., 34,  0,  0],\n",
      " [ 0,  0,  0, ...,  0, 41,  0],\n",
      " [ 0,  0,  0, ...,  0,  0, 31]]\n",
      "Kneighbors  Accuracy : 1.0\n",
      "Kneighbors  Confusion : \n",
      "[[40,  0,  0, ...,  0,  0,  0],\n",
      " [ 0, 43,  0, ...,  0,  0,  0],\n",
      " [ 0,  0, 28, ...,  0,  0,  0],\n",
      " ...,\n",
      " [ 0,  0,  0, ..., 34,  0,  0],\n",
      " [ 0,  0,  0, ...,  0, 41,  0],\n",
      " [ 0,  0,  0, ...,  0,  0, 31]]\n",
      "MultinomialNB  Accuracy : 1.0\n",
      "MultinomialNB  Confusion : \n",
      "[[40,  0,  0, ...,  0,  0,  0],\n",
      " [ 0, 43,  0, ...,  0,  0,  0],\n",
      " [ 0,  0, 28, ...,  0,  0,  0],\n",
      " ...,\n",
      " [ 0,  0,  0, ..., 34,  0,  0],\n",
      " [ 0,  0,  0, ...,  0, 41,  0],\n",
      " [ 0,  0,  0, ...,  0,  0, 31]]\n"
     ]
    }
   ],
   "source": [
    "from sklearn.datasets import make_classification\n",
    "from sklearn.svm import SVC\n",
    "from sklearn.ensemble import RandomForestClassifier,GradientBoostingClassifier\n",
    "from sklearn.neighbors import KNeighborsClassifier\n",
    "from sklearn.naive_bayes import MultinomialNB\n",
    "from sklearn.metrics import accuracy_score, confusion_matrix\n",
    "import numpy as np\n",
    "\n",
    "# create a dictionry to store models\n",
    "\n",
    "models={    \n",
    "    \"SVC\":SVC(kernel='linear'),\n",
    "    \"RandomForst\": RandomForestClassifier(n_estimators=100,random_state=42),\n",
    "    \"GradientBoosting\":GradientBoostingClassifier(n_estimators=100,random_state=42),\n",
    "    \"Kneighbors\":  KNeighborsClassifier(n_neighbors=5),\n",
    "    \"MultinomialNB\":  MultinomialNB()                                                                      \n",
    "}\n",
    "for model_name, model in models.items():\n",
    "    # train model\n",
    "    model.fit(x_train,y_train)\n",
    "    # test model\n",
    "    prediction=model.predict(x_test)\n",
    "\n",
    "    # calculate the accuracy of model\n",
    "    acc=accuracy_score(y_test, prediction)\n",
    "    # calculate the confusion metrix of model\n",
    "    cm= confusion_matrix(y_test, prediction)\n",
    "    print(f\"{model_name}  Accuracy : {acc}\")\n",
    "    print(f\"{model_name}  Confusion : \")\n",
    "    print(np.array2string(cm, separator=', '))\n",
    "    # print(f\"{model_name} :  {model}\")"
   ]
  },
  {
   "cell_type": "markdown",
   "id": "ee57affc-ac63-495a-8dba-0da6b08508c0",
   "metadata": {},
   "source": [
    "## we will use single model"
   ]
  },
  {
   "cell_type": "code",
   "execution_count": 19,
   "id": "049b7a8b-8057-4aff-8575-ba3c88c94ccf",
   "metadata": {},
   "outputs": [
    {
     "name": "stdout",
     "output_type": "stream",
     "text": [
      "ACCURACY : 1.0\n",
      " CONFUSION METRIX: [[40  0  0 ...  0  0  0]\n",
      " [ 0 43  0 ...  0  0  0]\n",
      " [ 0  0 28 ...  0  0  0]\n",
      " ...\n",
      " [ 0  0  0 ... 34  0  0]\n",
      " [ 0  0  0 ...  0 41  0]\n",
      " [ 0  0  0 ...  0  0 31]]\n"
     ]
    }
   ],
   "source": [
    "svm=SVC(kernel=\"linear\")\n",
    "# train the model\n",
    "svm.fit(x_train,y_train)\n",
    "\n",
    "# test the model\n",
    "prediction= svm.predict(x_test)\n",
    "#  calculate the accuracy of model\n",
    "acc=accuracy_score(y_test,prediction)\n",
    "# calculate the confusion matrix\n",
    "cm= confusion_matrix(y_test, prediction)\n",
    "print(f\"ACCURACY : {acc}\")\n",
    "print(f\" CONFUSION METRIX: {cm}\")"
   ]
  },
  {
   "cell_type": "code",
   "execution_count": 31,
   "id": "c4f24e8d-1f57-45da-bff9-2d574106d0cb",
   "metadata": {},
   "outputs": [],
   "source": [
    "# save the model\n",
    "import pickle\n",
    "pickle.dump(svm ,open(\"models/svm.pkl\",'wb'))"
   ]
  },
  {
   "cell_type": "code",
   "execution_count": 35,
   "id": "d2d2b80d-0caf-4833-8f7c-2c7823990e45",
   "metadata": {},
   "outputs": [],
   "source": [
    " #load model\n",
    "sv = pickle.load(open('models/svm.pkl','rb'))"
   ]
  },
  {
   "cell_type": "code",
   "execution_count": 73,
   "id": "a2a5b6ef-f3e6-4643-8a5b-542a21e018d8",
   "metadata": {},
   "outputs": [
    {
     "name": "stdout",
     "output_type": "stream",
     "text": [
      "Predicted label:  [34]\n",
      "Actual Label: 34\n"
     ]
    },
    {
     "name": "stderr",
     "output_type": "stream",
     "text": [
      "C:\\Users\\admin1\\anaconda3\\Lib\\site-packages\\sklearn\\base.py:493: UserWarning: X does not have valid feature names, but SVC was fitted with feature names\n",
      "  warnings.warn(\n"
     ]
    }
   ],
   "source": [
    "# test 01\n",
    "print(\"Predicted label: \",svm.predict(x_test.iloc[6].values.reshape(1,-1)))\n",
    "print(\"Actual Label:\", y_test[6])"
   ]
  },
  {
   "cell_type": "code",
   "execution_count": 75,
   "id": "1658dc02-7955-4082-9895-b2b1cf1c5b08",
   "metadata": {},
   "outputs": [
    {
     "name": "stdout",
     "output_type": "stream",
     "text": [
      "Predicted label:  [20]\n",
      "Actual Label: 20\n"
     ]
    },
    {
     "name": "stderr",
     "output_type": "stream",
     "text": [
      "C:\\Users\\admin1\\anaconda3\\Lib\\site-packages\\sklearn\\base.py:493: UserWarning: X does not have valid feature names, but SVC was fitted with feature names\n",
      "  warnings.warn(\n"
     ]
    }
   ],
   "source": [
    "# test 02\n",
    "print(\"Predicted label: \",svm.predict(x_test.iloc[10].values.reshape(1,-1)))\n",
    "print(\"Actual Label:\", y_test[10])"
   ]
  },
  {
   "cell_type": "markdown",
   "id": "5172819a-b0a9-4a73-bf19-75b1305e57ae",
   "metadata": {},
   "source": [
    "Recommendation system and prediction\n",
    "load database and use logic for recommendations"
   ]
  },
  {
   "cell_type": "code",
   "execution_count": null,
   "id": "44a7e1d1-74af-4c61-a94e-594e82c9b000",
   "metadata": {},
   "outputs": [],
   "source": []
  }
 ],
 "metadata": {
  "kernelspec": {
   "display_name": "Python 3 (ipykernel)",
   "language": "python",
   "name": "python3"
  },
  "language_info": {
   "codemirror_mode": {
    "name": "ipython",
    "version": 3
   },
   "file_extension": ".py",
   "mimetype": "text/x-python",
   "name": "python",
   "nbconvert_exporter": "python",
   "pygments_lexer": "ipython3",
   "version": "3.12.7"
  }
 },
 "nbformat": 4,
 "nbformat_minor": 5
}
