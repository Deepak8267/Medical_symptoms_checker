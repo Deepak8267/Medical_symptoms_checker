{
 "cells": [
  {
   "cell_type": "code",
   "execution_count": null,
   "id": "94606930-7bee-419f-ad59-06997eccaeb1",
   "metadata": {},
   "outputs": [],
   "source": [
    "import pandas as pd\n",
    "dataset = pd.read_csv(\"Dataset/Training.csv\")\n",
    "dataset.head()"
   ]
  },
  {
   "cell_type": "code",
   "execution_count": null,
   "id": "9a0dcefa-f25e-487a-af28-643e281775d8",
   "metadata": {},
   "outputs": [],
   "source": [
    "## train test split\n",
    "from sklearn.model_selection import train_test_split\n",
    "from sklearn.preprocessing import LabelEncoder"
   ]
  },
  {
   "cell_type": "code",
   "execution_count": null,
   "id": "7cedebce-6280-4931-ac80-a153d72f0d49",
   "metadata": {},
   "outputs": [],
   "source": [
    "X = dataset.drop(\"prognosis\", axis=1)\n",
    "y = dataset['prognosis']"
   ]
  },
  {
   "cell_type": "code",
   "execution_count": null,
   "id": "b32aeab0-c922-4bcb-bcd3-e027b31a450c",
   "metadata": {},
   "outputs": [],
   "source": [
    "le= LabelEncoder()  ## convert string into integer value becouse machine understand only number\n",
    "le.fit(y)\n",
    "Y=le.transform(y)"
   ]
  },
  {
   "cell_type": "code",
   "execution_count": null,
   "id": "d491798e-9416-42ff-b940-a2123543ee63",
   "metadata": {},
   "outputs": [],
   "source": [
    "x_train,x_test,y_train,y_test=train_test_split(X,Y, test_size=0.3, random_state=20)  # split data into x and y form 70:30 ratio 70 training data and 30 test data\n",
    "x_train.shape,x_test.shape,y_train.shape,y_test.shape"
   ]
  },
  {
   "cell_type": "raw",
   "id": "ea8ca361-a48e-473c-9ed4-15eec6ec5b0a",
   "metadata": {},
   "source": [
    "##  Training models"
   ]
  },
  {
   "cell_type": "code",
   "execution_count": null,
   "id": "f4287859-c110-4c72-abb6-bd4eeb6bb227",
   "metadata": {},
   "outputs": [],
   "source": [
    "from sklearn.datasets import make_classification\n",
    "from sklearn.svm import SVC\n",
    "from sklearn.ensemble import RandomForestClassifier,GradientBoostingClassifier\n",
    "from sklearn.neighbors import KNeighborsClassifier\n",
    "from sklearn.naive_bayes import MultinomialNB\n",
    "from sklearn.metrics import accuracy_score, confusion_matrix\n",
    "import numpy as np\n",
    "\n",
    "# create a dictionry to store models\n",
    "\n",
    "models={    \n",
    "    \"SVC\":SVC(kernel='linear'),\n",
    "    \"RandomForst\": RandomForestClassifier(n_estimators=100,random_state=42),\n",
    "    \"GradientBoosting\":GradientBoostingClassifier(n_estimators=100,random_state=42),\n",
    "    \"Kneighbors\":  KNeighborsClassifier(n_neighbors=5),\n",
    "    \"MultinomialNB\":  MultinomialNB()                                                                      \n",
    "}\n",
    "for model_name, model in models.items():\n",
    "    # train model\n",
    "    model.fit(x_train,y_train)\n",
    "    # test model\n",
    "    prediction=model.predict(x_test)\n",
    "\n",
    "    # calculate the accuracy of model\n",
    "    acc=accuracy_score(y_test, prediction)\n",
    "    # calculate the confusion metrix of model\n",
    "    cm= confusion_matrix(y_test, prediction)\n",
    "    print(f\"{model_name}  Accuracy : {acc}\")\n",
    "    print(f\"{model_name}  Confusion : \")\n",
    "    print(np.array2string(cm, separator=', '))\n",
    "    # print(f\"{model_name} :  {model}\")"
   ]
  },
  {
   "cell_type": "markdown",
   "id": "ee57affc-ac63-495a-8dba-0da6b08508c0",
   "metadata": {},
   "source": [
    "## we will use single model"
   ]
  },
  {
   "cell_type": "code",
   "execution_count": null,
   "id": "049b7a8b-8057-4aff-8575-ba3c88c94ccf",
   "metadata": {},
   "outputs": [],
   "source": [
    "svm=SVC(kernel=\"linear\")\n",
    "# train the model\n",
    "svm.fit(x_train,y_train)\n",
    "\n",
    "# test the model\n",
    "prediction= svm.predict(x_test)\n",
    "#  calculate the accuracy of model\n",
    "acc=accuracy_score(y_test,prediction)\n",
    "# calculate the confusion matrix\n",
    "cm= confusion_matrix(y_test, prediction)\n",
    "print(f\"ACCURACY : {acc}\")\n",
    "print(f\" CONFUSION METRIX: {cm}\")"
   ]
  },
  {
   "cell_type": "code",
   "execution_count": null,
   "id": "c4f24e8d-1f57-45da-bff9-2d574106d0cb",
   "metadata": {},
   "outputs": [],
   "source": [
    "# save the model\n",
    "import pickle\n",
    "pickle.dump(svm ,open(\"models/svm.pkl\",'wb'))"
   ]
  },
  {
   "cell_type": "code",
   "execution_count": null,
   "id": "d2d2b80d-0caf-4833-8f7c-2c7823990e45",
   "metadata": {},
   "outputs": [],
   "source": [
    " #load model\n",
    "sv = pickle.load(open('models/svm.pkl','rb'))"
   ]
  },
  {
   "cell_type": "code",
   "execution_count": null,
   "id": "a2a5b6ef-f3e6-4643-8a5b-542a21e018d8",
   "metadata": {},
   "outputs": [],
   "source": [
    "# test 01\n",
    "print(\"Predicted label: \",svm.predict(x_test.iloc[6].values.reshape(1,-1)))\n",
    "print(\"Actual Label:\", y_test[6])"
   ]
  },
  {
   "cell_type": "code",
   "execution_count": null,
   "id": "1658dc02-7955-4082-9895-b2b1cf1c5b08",
   "metadata": {},
   "outputs": [],
   "source": [
    "# test 02\n",
    "print(\"Predicted label: \",svm.predict(x_test.iloc[10].values.reshape(1,-1)))\n",
    "print(\"Actual Label:\", y_test[10])"
   ]
  },
  {
   "cell_type": "markdown",
   "id": "5172819a-b0a9-4a73-bf19-75b1305e57ae",
   "metadata": {},
   "source": [
    "Recommendation system and prediction\n",
    "load database and use logic for recommendations"
   ]
  },
  {
   "cell_type": "code",
   "execution_count": null,
   "id": "f186e7af-f59c-486d-8cc5-4d7643160dbb",
   "metadata": {},
   "outputs": [],
   "source": [
    "dec_sem= pd.read_csv(\"Dataset/symtoms_df.csv\")\n",
    "precautions= pd.read_csv(\"Dataset/precautions_df.csv\")\n",
    "workout= pd.read_csv(\"Dataset/workout_df.csv\")\n",
    "description= pd.read_csv(\"Dataset/description.csv\")\n",
    "medications= pd.read_csv(\"Dataset/medications.csv\")\n",
    "diets= pd.read_csv(\"Dataset/diets.csv\")\n"
   ]
  },
  {
   "cell_type": "code",
   "execution_count": null,
   "id": "8a1b4d68-b84d-46db-80b1-ec7adc8ed80c",
   "metadata": {},
   "outputs": [],
   "source": [
    "#============================================================\n",
    "# custome and helping functions\n",
    "#==========================helper funtions================\n",
    "def helper(dis):\n",
    "    desc = description[description['Disease'] == dis]['Description']\n",
    "    desc = \" \".join([w for w in desc])\n",
    "\n",
    "    pre = precautions[precautions['Disease'] == dis][['Precaution_1', 'Precaution_2', 'Precaution_3', 'Precaution_4']]\n",
    "    pre = [col for col in pre.values]\n",
    "\n",
    "    med = medications[medications['Disease'] == dis]['Medication']\n",
    "    med = [med for med in med.values]\n",
    "\n",
    "    die = diets[diets['Disease'] == dis]['Diet']\n",
    "    die = [die for die in die.values]\n",
    "\n",
    "    wrkout = workout[workout['disease'] == dis] ['workout']\n",
    "\n",
    "\n",
    "    return desc,pre,med,die,wrkout\n",
    "symptoms_dict = {'itching': 0, 'skin_rash': 1, 'nodal_skin_eruptions': 2, 'continuous_sneezing': 3, 'shivering': 4, 'chills': 5, 'joint_pain': 6, 'stomach_pain': 7, 'acidity': 8, 'ulcers_on_tongue': 9, 'muscle_wasting': 10, 'vomiting': 11, 'burning_micturition': 12, 'spotting_ urination': 13, 'fatigue': 14, 'weight_gain': 15, 'anxiety': 16, 'cold_hands_and_feets': 17, 'mood_swings': 18, 'weight_loss': 19, 'restlessness': 20, 'lethargy': 21, 'patches_in_throat': 22, 'irregular_sugar_level': 23, 'cough': 24, 'high_fever': 25, 'sunken_eyes': 26, 'breathlessness': 27, 'sweating': 28, 'dehydration': 29, 'indigestion': 30, 'headache': 31, 'yellowish_skin': 32, 'dark_urine': 33, 'nausea': 34, 'loss_of_appetite': 35, 'pain_behind_the_eyes': 36, 'back_pain': 37, 'constipation': 38, 'abdominal_pain': 39, 'diarrhoea': 40, 'mild_fever': 41, 'yellow_urine': 42, 'yellowing_of_eyes': 43, 'acute_liver_failure': 44, 'fluid_overload': 45, 'swelling_of_stomach': 46, 'swelled_lymph_nodes': 47, 'malaise': 48, 'blurred_and_distorted_vision': 49, 'phlegm': 50, 'throat_irritation': 51, 'redness_of_eyes': 52, 'sinus_pressure': 53, 'runny_nose': 54, 'congestion': 55, 'chest_pain': 56, 'weakness_in_limbs': 57, 'fast_heart_rate': 58, 'pain_during_bowel_movements': 59, 'pain_in_anal_region': 60, 'bloody_stool': 61, 'irritation_in_anus': 62, 'neck_pain': 63, 'dizziness': 64, 'cramps': 65, 'bruising': 66, 'obesity': 67, 'swollen_legs': 68, 'swollen_blood_vessels': 69, 'puffy_face_and_eyes': 70, 'enlarged_thyroid': 71, 'brittle_nails': 72, 'swollen_extremeties': 73, 'excessive_hunger': 74, 'extra_marital_contacts': 75, 'drying_and_tingling_lips': 76, 'slurred_speech': 77, 'knee_pain': 78, 'hip_joint_pain': 79, 'muscle_weakness': 80, 'stiff_neck': 81, 'swelling_joints': 82, 'movement_stiffness': 83, 'spinning_movements': 84, 'loss_of_balance': 85, 'unsteadiness': 86, 'weakness_of_one_body_side': 87, 'loss_of_smell': 88, 'bladder_discomfort': 89, 'foul_smell_of urine': 90, 'continuous_feel_of_urine': 91, 'passage_of_gases': 92, 'internal_itching': 93, 'toxic_look_(typhos)': 94, 'depression': 95, 'irritability': 96, 'muscle_pain': 97, 'altered_sensorium': 98, 'red_spots_over_body': 99, 'belly_pain': 100, 'abnormal_menstruation': 101, 'dischromic _patches': 102, 'watering_from_eyes': 103, 'increased_appetite': 104, 'polyuria': 105, 'family_history': 106, 'mucoid_sputum': 107, 'rusty_sputum': 108, 'lack_of_concentration': 109, 'visual_disturbances': 110, 'receiving_blood_transfusion': 111, 'receiving_unsterile_injections': 112, 'coma': 113, 'stomach_bleeding': 114, 'distention_of_abdomen': 115, 'history_of_alcohol_consumption': 116, 'fluid_overload.1': 117, 'blood_in_sputum': 118, 'prominent_veins_on_calf': 119, 'palpitations': 120, 'painful_walking': 121, 'pus_filled_pimples': 122, 'blackheads': 123, 'scurring': 124, 'skin_peeling': 125, 'silver_like_dusting': 126, 'small_dents_in_nails': 127, 'inflammatory_nails': 128, 'blister': 129, 'red_sore_around_nose': 130, 'yellow_crust_ooze': 131}\n",
    "diseases_list = {15: 'Fungal infection', 4: 'Allergy', 16: 'GERD', 9: 'Chronic cholestasis', 14: 'Drug Reaction', 33: 'Peptic ulcer diseae', 1: 'AIDS', 12: 'Diabetes ', 17: 'Gastroenteritis', 6: 'Bronchial Asthma', 23: 'Hypertension ', 30: 'Migraine', 7: 'Cervical spondylosis', 32: 'Paralysis (brain hemorrhage)', 28: 'Jaundice', 29: 'Malaria', 8: 'Chicken pox', 11: 'Dengue', 37: 'Typhoid', 40: 'hepatitis A', 19: 'Hepatitis B', 20: 'Hepatitis C', 21: 'Hepatitis D', 22: 'Hepatitis E', 3: 'Alcoholic hepatitis', 36: 'Tuberculosis', 10: 'Common Cold', 34: 'Pneumonia', 13: 'Dimorphic hemmorhoids(piles)', 18: 'Heart attack', 39: 'Varicose veins', 26: 'Hypothyroidism', 24: 'Hyperthyroidism', 25: 'Hypoglycemia', 31: 'Osteoarthristis', 5: 'Arthritis', 0: '(vertigo) Paroymsal  Positional Vertigo', 2: 'Acne', 38: 'Urinary tract infection', 35: 'Psoriasis', 27: 'Impetigo'}\n",
    "# Model Prediction function\n",
    "def get_predicted_value(patient_symptoms):\n",
    "    vector = np.zeros(len(symptoms_dict))\n",
    "    for item in patient_symptoms:\n",
    "        vector[symptoms_dict[item]] = 1\n",
    "    return diseases_list[svm.predict([vector])[0]]"
   ]
  },
  {
   "cell_type": "code",
   "execution_count": null,
   "id": "b5d5c237-1b9d-4cf7-bc33-3a3d8283d9ed",
   "metadata": {
    "scrolled": true
   },
   "outputs": [],
   "source": [
    "# Test 1\n",
    "# Split the user's input into a list of symptoms (assuming they are comma-separated) # itching,skin_rash,nodal_skin_eruptions\n",
    "symptoms= input(\"enter the sympotms\")\n",
    "user_symptoms = [s.strip() for s in symptoms.split(',')]\n",
    "# Remove any extra characters, if any\n",
    "# user_symptoms = [symptom.strip(\"[]' \") for symptom in user_symptoms]\n",
    "predicted_disease = get_predicted_value(user_symptoms)\n",
    "desc, pre, med, die, wrkout = helper(predicted_disease)"
   ]
  },
  {
   "cell_type": "code",
   "execution_count": null,
   "id": "52d24546-ff50-48ac-a631-b4498ba34ea9",
   "metadata": {},
   "outputs": [],
   "source": [
    "\n",
    "print(\"=================predicted disease============\")\n",
    "print(predicted_disease)\n",
    "print(\"=================description==================\")\n",
    "print(desc)\n",
    "print(\"=================precautions==================\")\n",
    "i = 1\n",
    "for p_i in pre[0]:\n",
    "    print(i, \": \", p_i)\n",
    "    i += 1\n",
    "\n",
    "print(\"=================medications==================\")\n",
    "for m_i in med:\n",
    "    print(i, \": \", m_i)\n",
    "    i += 1\n",
    "\n",
    "print(\"=================workout==================\")\n",
    "for w_i in wrkout:\n",
    "    print(i, \": \", w_i)\n",
    "    i += 1\n",
    "\n",
    "print(\"=================diets==================\")\n",
    "for d_i in die:\n",
    "    print(i, \": \", d_i)\n",
    "    i += 1"
   ]
  },
  {
   "cell_type": "code",
   "execution_count": null,
   "id": "bd019d5f-c3f8-4f6a-bb02-bcb01cbfe215",
   "metadata": {},
   "outputs": [],
   "source": []
  },
  {
   "cell_type": "code",
   "execution_count": null,
   "id": "3fd283fd-8b6c-4d3e-9695-df7c1c0735d2",
   "metadata": {},
   "outputs": [],
   "source": []
  },
  {
   "cell_type": "code",
   "execution_count": null,
   "id": "86e36cfc-b7eb-4a7a-b15e-6726c6acfc85",
   "metadata": {},
   "outputs": [],
   "source": []
  }
 ],
 "metadata": {
  "kernelspec": {
   "display_name": "Python 3 (ipykernel)",
   "language": "python",
   "name": "python3"
  },
  "language_info": {
   "codemirror_mode": {
    "name": "ipython",
    "version": 3
   },
   "file_extension": ".py",
   "mimetype": "text/x-python",
   "name": "python",
   "nbconvert_exporter": "python",
   "pygments_lexer": "ipython3",
   "version": "3.12.7"
  }
 },
 "nbformat": 4,
 "nbformat_minor": 5
}
